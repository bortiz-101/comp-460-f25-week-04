{
 "cells": [
  {
   "cell_type": "markdown",
   "id": "affe53ce",
   "metadata": {},
   "source": [
    "# Fast Fourier Transform\n",
    "\n",
    "In the early 19th century Joseph Fourier introduced the radical idea that any periodic function—no matter how irregular—could be expressed as a sum of simple sine and cosine waves. This assertion opened an entirely new way of thinking: functions could be decomposed into fundamental frequency components, much like a prism decomposes light into colors.\n",
    " \n",
    "Fourier's work (collectively known as Fourier Analysis, or Fourier Series, or Fourier Transforms) gave scientists and engineers a universal language for describing oscillations, waves, and signals. The notion of switching between time and frequency perspectives became indispensable in acoustics, optics, and electromagnetism. Today it underpins medical imaging, data compression, high fidelity audio, telecommunications, and photography -- to name a few diverse areas.\n",
    "\n",
    "Equally important, Fourier’s ideas reshaped mathematics itself. The world could be understood in terms of frequencies. This insight transformed science and engineering and remains one of the most enduring legacies in the history of mathematics.\n",
    "\n",
    "## The transform \n",
    "\n",
    "The continuous Fourier transform of a function $f(t)$ is defined as\n",
    "$$\n",
    "F(\\omega) = \\int_{-\\infty}^{\\infty} f(t) e^{-i\\omega t}dt\n",
    "$$\n",
    "\n",
    "where $f(t)$ is the original function, $F(\\omega)$ is the Fourier representation of $f$, $\\omega$ is an invert quantity to $t$, and $i = \\sqrt{-1}$. The transform can be used on any function $f$ but usually we look at functions in time and therefore, $\\omega$ is a frequency.\n",
    "\n",
    "The sines and cosines of the transform are \"hidden\" in $e^{-i\\omega t}$. In the 1740s, Leonhard Euler showed that $e^{-i\\theta} = \\cos\\theta - i\\sin\\theta$.\n",
    "\n",
    "Of course no one wants to work with integrals. And besides, many signals that require Fourier analysis are discrete. So, given a sequence of N values $[f_0, f_1, \\ldots, f_{N-1}]$, their **discrete Fourier transform** is defined as\n",
    "$$\n",
    "F_k = \\sum_{n=0}^{N-1} f_n\\, e^{-2i\\pi kn/N},\\ \\ \\text{with}\\ 0\\leq k< N\n",
    "$$\n",
    "This is easy to compute as shown below. Assuming that sequence $f$ has real values only (just to avoid dealing with complex numbers for now), we need only two nested loops for the computation."
   ]
  },
  {
   "cell_type": "code",
   "execution_count": null,
   "id": "2e0bfa10",
   "metadata": {},
   "outputs": [],
   "source": [
    "import math\n",
    "def dft(f:list) -> list:\n",
    "    N = len(f)\n",
    "    F = [0] * N\n",
    "    for k in range(N):\n",
    "        for n in range(N):\n",
    "            F[k] += f[n] * math.cos(2 * math.pi * k * n / N) \n",
    "    return F"
   ]
  },
  {
   "cell_type": "markdown",
   "id": "90df8129",
   "metadata": {},
   "source": [
    "# Your assignment\n",
    "\n",
    "\n",
    "\n",
    "\n",
    "# Reading\n",
    "[Chapter 3](https://jeffe.cs.illinois.edu/teaching/algorithms/book/03-dynprog.pdf) from Jeff's book"
   ]
  }
 ],
 "metadata": {
  "kernelspec": {
   "display_name": "Python 3",
   "language": "python",
   "name": "python3"
  },
  "language_info": {
   "codemirror_mode": {
    "name": "ipython",
    "version": 3
   },
   "file_extension": ".py",
   "mimetype": "text/x-python",
   "name": "python",
   "nbconvert_exporter": "python",
   "pygments_lexer": "ipython3",
   "version": "3.12.1"
  }
 },
 "nbformat": 4,
 "nbformat_minor": 5
}
