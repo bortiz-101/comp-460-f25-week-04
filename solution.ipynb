{
 "cells": [
  {
   "cell_type": "markdown",
   "id": "f496de79",
   "metadata": {},
   "source": [
    "# SSSP as a greedy algorithm\n",
    "\n",
    "Here’s a clean counterexample where a greedy path-building rule (“from your current vertex, take the smallest-weight outgoing edge”) fails.\n",
    "\n",
    "We consider a directed graph with 7 vertices:\n",
    "\n",
    "$$\n",
    "V = \\{ s, a, b, c, d, e, t \\}\n",
    "$$\n",
    "\n",
    "Edges with weights:\n",
    "\n",
    "- $s \\to a$  with weight $1$  \n",
    "- $a \\to t$  with weight $100$  \n",
    "- $s \\to b$  with weight $2$  \n",
    "- $b \\to c$  with weight $2$  \n",
    "- $c \\to d$  with weight $2$  \n",
    "- $d \\to e$  with weight $2$  \n",
    "- $e \\to t$  with weight $2$  \n",
    "\n",
    "Thus, there are two main paths from $s$ to $t$:\n",
    "\n",
    "- A seemingly short path, $s \\to a \\to t $ with total cost $1 + 100 = 101$  \n",
    "- and a longer one, $s \\to b \\to c \\to d \\to e \\to t $ with total cost $2+2+2+2+2 = 10$  \n",
    "\n",
    "$$\n",
    "\\text{Optimal path: } s \\to b \\to c \\to d \\to e \\to t,\\quad \\text{cost } = 10\n",
    "$$\n",
    "\n",
    "\n",
    "What the “plain greedy” does: start at $s$. The smallest outgoing edge is $s\\to a$ with weight 1; this is better than $s\\to b$ with weight 2. So plain greed takes us to $a$. From there the only viable edge is $a\\to t$ and it's very expensive.\n",
    "\n",
    "**Moral of greed :-)**\n",
    "\n",
    "This \"always take the lightest next hop\" rule is not optimal for SSSP. The locally cheapest edge can funnel us into a very expensive final step, while a slightly larger first step opens a much cheaper overall path.\n"
   ]
  }
 ],
 "metadata": {
  "language_info": {
   "name": "python"
  }
 },
 "nbformat": 4,
 "nbformat_minor": 5
}
